{
 "cells": [
  {
   "cell_type": "markdown",
   "metadata": {},
   "source": [
    "# 01 파이썬 리뷰"
   ]
  },
  {
   "cell_type": "markdown",
   "metadata": {},
   "source": [
    "## 파일 읽기 "
   ]
  },
  {
   "cell_type": "code",
   "execution_count": 7,
   "metadata": {},
   "outputs": [
    {
     "name": "stdout",
     "output_type": "stream",
     "text": [
      "line# :  17\n"
     ]
    }
   ],
   "source": [
    "# -*- coding: utf-8 -*-\n",
    "# 윈도우\n",
    "#  fd =fd=open(\"studentlist.txt\")\n",
    "fd=open(\"studentlist.txt\",encoding='cp949')\n",
    "\n",
    "fd.readline() # 헤딩 \n",
    "\n",
    "lines= fd.readlines()\n",
    "\n",
    "print (\"line# : \", len(lines))"
   ]
  },
  {
   "cell_type": "markdown",
   "metadata": {},
   "source": [
    "## 필드 분할, type 가공"
   ]
  },
  {
   "cell_type": "code",
   "execution_count": 8,
   "metadata": {},
   "outputs": [
    {
     "name": "stdout",
     "output_type": "stream",
     "text": [
      "[['이미린', '여자', 22, '2', '무', 'AB', 170.1, 53.0, '03'], ['홍길동', '남자', 24, '4', '무', 'B', 175.0, 80.1, '01']]\n"
     ]
    }
   ],
   "source": [
    "Table=[] # 전체 레코드를 담은 테이블 \n",
    "\n",
    "for line in lines :  # 한 줄 씩  line 변수에 담아서\n",
    "    \n",
    "    fields= line.split(\",\") # , 를 기준으로 나눈다. -> fields라는 list가 만들어진다.\n",
    "    # name,sex,age,grade,absence,bloodtype,height,weight,dept\n",
    "    #  0    1   2    3    4        5         6     7      8\n",
    "\n",
    "    fields[2]= int(fields[2])  # 나이를 숫자로 바꿔 넣기\n",
    "\n",
    "    fields[6]= float(fields[6])  # 키를 숫자로 바꿔 넣기\n",
    "    fields[7] = float(fields[7]) # 몸무게도 \n",
    "    fields[8]= fields[8].strip()\n",
    "          \n",
    "    Table.append(fields)  #레코드를 테이블에 추가 \n",
    "\n",
    "print (Table[1:3])"
   ]
  },
  {
   "cell_type": "markdown",
   "metadata": {},
   "source": [
    "## 정렬"
   ]
  },
  {
   "cell_type": "code",
   "execution_count": 9,
   "metadata": {},
   "outputs": [
    {
     "name": "stdout",
     "output_type": "stream",
     "text": [
      "손세수 여자 20\n",
      "박미희 여자 21\n",
      "김민수 남자 21\n",
      "여수근 남자 21\n",
      "이미린 여자 22\n",
      "강수친 여자 22\n",
      "방희철 남자 22\n",
      "임동민 남자 22\n",
      "김미진 여자 22\n",
      "김길동 남자 23\n",
      "김철수 남자 23\n",
      "이희수 여자 23\n",
      "이철린 남자 23\n",
      "이희진 여자 23\n",
      "홍길동 남자 24\n",
      "박수호 남자 24\n",
      "김동수 남자 24\n"
     ]
    }
   ],
   "source": [
    "Table= sorted(Table, key = lambda con : con[2] ) # 나이로 정렬\n",
    "for record in Table :\n",
    "    print ( record[0], record[1], record[2])"
   ]
  },
  {
   "cell_type": "markdown",
   "metadata": {},
   "source": [
    "## 기술 통계 : 평균 구하기, 키 평균"
   ]
  },
  {
   "cell_type": "code",
   "execution_count": 10,
   "metadata": {},
   "outputs": [
    {
     "name": "stdout",
     "output_type": "stream",
     "text": [
      "170.03529411764706\n"
     ]
    }
   ],
   "source": [
    "heightSum=0\n",
    "for rec in Table :\n",
    "    height= rec[6]\n",
    "    heightSum+=height\n",
    "\n",
    "print (heightSum / len(Table))"
   ]
  },
  {
   "cell_type": "markdown",
   "metadata": {},
   "source": [
    "## 기술통계 :  도수 구하기 \n",
    "\n",
    "### 학과 별 학생 수 "
   ]
  },
  {
   "cell_type": "code",
   "execution_count": 11,
   "metadata": {},
   "outputs": [
    {
     "name": "stdout",
     "output_type": "stream",
     "text": [
      "{'01': 6, '03': 6, '02': 5}\n"
     ]
    }
   ],
   "source": [
    "dept_dic= {}  # {학과 코드: 도수}\n",
    "for rec in Table :\n",
    "    dept_code=rec[8]\n",
    "    if dept_code in dept_dic:\n",
    "        dept_dic[dept_code]+=1\n",
    "    else :\n",
    "        dept_dic[dept_code]=1\n",
    "\n",
    "print (dept_dic)"
   ]
  },
  {
   "cell_type": "markdown",
   "metadata": {},
   "source": [
    "## join \n",
    "### 학과 코드 파일 읽어서 도수 결과에 표기"
   ]
  },
  {
   "cell_type": "code",
   "execution_count": 13,
   "metadata": {},
   "outputs": [
    {
     "name": "stdout",
     "output_type": "stream",
     "text": [
      "소프트웨어 6\n",
      "통계보험 6\n",
      "AI융합 5\n"
     ]
    }
   ],
   "source": [
    "deptcode={}  # {학과 코드 : 실제 명칭}\n",
    "# 윈도우\n",
    "#  fd =fd=open(\"deptcode.txt\")\n",
    "f=open(\"deptcode.txt\",encoding='cp949') \n",
    "for line in f:\n",
    "    code, name=line.split(\",\")\n",
    "    deptcode[code]=name.strip()\n",
    "    #print (deptcode)\n",
    "\n",
    "for key, value in dept_dic.items():\n",
    "    print (deptcode[key], value)\n"
   ]
  },
  {
   "cell_type": "markdown",
   "metadata": {},
   "source": [
    "## group by :  혈액형 별 키 평균\n",
    "\n",
    "### 혈액형 별 키 합계, 도수 집계  "
   ]
  },
  {
   "cell_type": "code",
   "execution_count": 14,
   "metadata": {},
   "outputs": [
    {
     "name": "stdout",
     "output_type": "stream",
     "text": [
      "{'A': [676.3, 4], 'O': [825.7, 5], 'AB': [532.2, 3], 'B': [856.4, 5]}\n"
     ]
    }
   ],
   "source": [
    "b_table={}  # 집계 테이블 : { 혈액형 : [합계, 도수] }\n",
    "\n",
    "for rec in Table :\n",
    "    bloodtype=rec[5]\n",
    "    if bloodtype in b_table:  # 진료과목이 있는지\n",
    "        b_table[bloodtype]= [ b_table[bloodtype][0]+rec[6], b_table[bloodtype][1]+ 1]  # 키 합계, 갯수 \n",
    "    else:\n",
    "        b_table[bloodtype]= [rec[6], 1]  # 키 , 갯수 \n",
    "\n",
    "print ( b_table)"
   ]
  },
  {
   "cell_type": "code",
   "execution_count": 15,
   "metadata": {},
   "outputs": [
    {
     "name": "stdout",
     "output_type": "stream",
     "text": [
      "A 169.075\n",
      "O 165.14000000000001\n",
      "AB 177.4\n",
      "B 171.28\n"
     ]
    }
   ],
   "source": [
    "for key, value in b_table.items():\n",
    "    print ( key , value[0]/value[1] )"
   ]
  },
  {
   "cell_type": "markdown",
   "metadata": {},
   "source": [
    "## *과제 1 : 성별, 혈액형 별 몸무게의 평균\n",
    "\n",
    "결과예시)\n",
    "\n",
    "남자, A, 얼마\n",
    "\n",
    "남자, B, 얼마\n",
    "\n",
    "### 제출방법 \n",
    "\n",
    "test1.ipynb 파일 제출 (위 내용 포함)  "
   ]
  },
  {
   "cell_type": "code",
   "execution_count": 18,
   "metadata": {},
   "outputs": [
    {
     "name": "stdout",
     "output_type": "stream",
     "text": [
      "{('남자', 'A'): [338.4, 2], ('남자', 'B'): [337.2, 2], ('남자', 'AB'): [364.2, 2], ('남자', 'O'): [334.2, 2], ('여자', 'A'): [353.8, 2], ('여자', 'O'): [352.2, 2], ('여자', 'AB'): [170.1, 1], ('여자', 'B'): [158.2, 1]}\n"
     ]
    }
   ],
   "source": [
    "sb_table={}  # 집계 테이블 : { (성별,혈액형) : [합계, 도수] }\n",
    "Table = sorted(Table, key = lambda rec : rec[1])\n",
    "for rec in Table :\n",
    "    sex = rec[1]\n",
    "    bloodtype=rec[5]\n",
    "    if (sex,bloodtype) in sb_table:  # 진료과목이 있는지\n",
    "        sb_table[(sex,bloodtype)]= [ b_table[(sex,bloodtype)][0]+rec[6], b_table[(sex,bloodtype)][1]+ 1]  # 키 합계, 갯수 \n",
    "    else:\n",
    "       sb_table[(sex,bloodtype)]= [rec[6], 1]  # 키 , 갯수 \n",
    "\n",
    "print (sb_table)"
   ]
  },
  {
   "cell_type": "code",
   "execution_count": 20,
   "metadata": {},
   "outputs": [
    {
     "name": "stdout",
     "output_type": "stream",
     "text": [
      "남자 A 169.2\n",
      "남자 B 168.6\n",
      "남자 AB 182.1\n",
      "남자 O 167.1\n",
      "여자 A 176.9\n",
      "여자 O 176.1\n",
      "여자 AB 170.1\n",
      "여자 B 158.2\n"
     ]
    }
   ],
   "source": [
    "for key, value in sb_table.items():\n",
    "    print(key[0],key[1] , value[0]/value[1] )"
   ]
  }
 ],
 "metadata": {
  "kernelspec": {
   "display_name": "Python 3",
   "language": "python",
   "name": "python3"
  },
  "language_info": {
   "codemirror_mode": {
    "name": "ipython",
    "version": 3
   },
   "file_extension": ".py",
   "mimetype": "text/x-python",
   "name": "python",
   "nbconvert_exporter": "python",
   "pygments_lexer": "ipython3",
   "version": "3.8.5"
  }
 },
 "nbformat": 4,
 "nbformat_minor": 4
}
